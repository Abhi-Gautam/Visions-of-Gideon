{
  "nbformat": 4,
  "nbformat_minor": 0,
  "metadata": {
    "colab": {
      "name": "text2image.ipynb",
      "provenance": [],
      "collapsed_sections": []
    },
    "kernelspec": {
      "name": "python3",
      "display_name": "Python 3.8.5 64-bit",
      "metadata": {
        "interpreter": {
          "hash": "a2b19587b2fc57aff950169ba0629ef4fb71192d33efebaeb0197cabff745a70"
        }
      }
    },
    "accelerator": "GPU"
  },
  "cells": [
    {
      "cell_type": "code",
      "metadata": {
        "colab": {
          "base_uri": "https://localhost:8080/"
        },
        "collapsed": true,
        "id": "oZ3vU64l8uyn",
        "outputId": "aed51a24-c39c-4350-d441-14d1811d8c68"
      },
      "source": [
        "import subprocess\r\n",
        "\r\n",
        "CUDA_version = [s for s in subprocess.check_output([\"nvcc\", \"--version\"]).decode(\"UTF-8\").split(\", \") if s.startswith(\"release\")][0].split(\" \")[-1]\r\n",
        "print(\"CUDA version:\", CUDA_version)\r\n",
        "\r\n",
        "if CUDA_version == \"10.0\":\r\n",
        "    torch_version_suffix = \"+cu100\"\r\n",
        "elif CUDA_version == \"10.1\":\r\n",
        "    torch_version_suffix = \"+cu101\"\r\n",
        "elif CUDA_version == \"10.2\":\r\n",
        "    torch_version_suffix = \"\"\r\n",
        "else:\r\n",
        "    torch_version_suffix = \"+cu110\"\r\n",
        "\r\n",
        "! pip install torch==1.7.1{torch_version_suffix} torchvision==0.8.2{torch_version_suffix} -f https://download.pytorch.org/whl/torch_stable.html ftfy regex"
      ],
      "execution_count": null,
      "outputs": []
    },
    {
      "cell_type": "code",
      "metadata": {
        "colab": {
          "base_uri": "https://localhost:8080/"
        },
        "collapsed": true,
        "id": "aEzeQawz9ClT",
        "outputId": "29cc052e-0597-4198-8f71-1a46275bc212"
      },
      "source": [
        "!pip install big-sleep==0.4.11"
      ],
      "execution_count": null,
      "outputs": []
    },
    {
      "cell_type": "code",
      "metadata": {
        "colab": {
          "base_uri": "https://localhost:8080/"
        },
        "collapsed": true,
        "id": "k6GcvZhp9DjB",
        "outputId": "1cba1e10-ba71-45af-d705-54874f1af74b"
      },
      "source": [
        "from google.colab import drive\r\n",
        "drive.mount('/content/drive')"
      ],
      "execution_count": null,
      "outputs": []
    },
    {
      "cell_type": "code",
      "metadata": {
        "id": "Eovxrzo-9Q70"
      },
      "source": [
        "from IPython.display import Image, display\r\n",
        "import string\r\n",
        "import torch\r\n",
        "from torchvision.utils import save_image\r\n",
        "import numpy as np\r\n",
        "\r\n",
        "from big_sleep import Imagine\r\n",
        "from big_sleep.clip import tokenize\r\n",
        "\r\n",
        "from nltk.corpus import stopwords\r\n",
        "\r\n",
        "from skimage.measure import compare_ssim\r\n",
        "\r\n",
        "import cv2\r\n",
        "from pathlib import Path\r\n",
        "\r\n",
        "import PIL\r\n",
        "from PIL import ImageFont, ImageDraw\r\n",
        "\r\n",
        "from skimage import io\r\n",
        "\r\n"
      ],
      "execution_count": null,
      "outputs": []
    },
    {
      "cell_type": "code",
      "metadata": {
        "id": "BnHCqxwu9ccA"
      },
      "source": [
        "TEXT = 'Dungeon' \r\n",
        "SAVE_EVERY = 1\r\n",
        "SAVE_PROGRESS = True\r\n",
        "LEARNING_RATE = 0.05\r\n",
        "ITERATIONS =  100"
      ],
      "execution_count": null,
      "outputs": []
    },
    {
      "cell_type": "code",
      "metadata": {
        "colab": {
          "base_uri": "https://localhost:8080/",
          "height": 1000
        },
        "collapsed": true,
        "id": "EdesvZBuJLWy",
        "outputId": "40343ea3-a9ab-491a-a961-d5474e42a2d8"
      },
      "source": [
        "def train_step(self, epoch, i, rand=0):\n",
        "\n",
        "  total_loss = 0\n",
        "\n",
        "  for _ in range(self.gradient_accumulate_every):\n",
        "      losses = self.model(self.encoded_text) \n",
        "      loss = (sum(losses) / self.gradient_accumulate_every) + rand*np.random.randn()\n",
        "      total_loss += loss\n",
        "      loss.backward()\n",
        "\n",
        "  self.optimizer.step()\n",
        "  self.optimizer.zero_grad()\n",
        "\n",
        "  if (i + 1) % self.save_every == 0:\n",
        "      with torch.no_grad():\n",
        "          mres = self.model.model()\n",
        "          image = mres[len(mres)-1].cpu()\n",
        "          num = i // self.save_every\n",
        "          save_image(image, Path(f'./{self.textpath}.{num}.png'))\n",
        "\n",
        "model = Imagine(\n",
        "    text = TEXT,\n",
        "    save_every = SAVE_EVERY,\n",
        "    lr = LEARNING_RATE,\n",
        "    iterations = ITERATIONS,\n",
        "    save_progress = SAVE_PROGRESS\n",
        ")\n",
        "filename = TEXT.replace(' ', '_')\n",
        "\n",
        "all_text = \"\"\"Astronaut lonely in the dark space.\n",
        "Living on the Moon with aliens.\n",
        "No weapons, terror, hate or Destruction.\n",
        "Made House in the dark woods.\n",
        "Where the devil will not kill.\n",
        "Spaceman is Happy in his capsule.\n",
        "Dreaming about beautiful terrestrial cosmic love.  \"\"\"\n",
        "\n",
        "burnin=20 #\n",
        "checkin_gap = 10\n",
        "long_sim_gap = 10\n",
        "span = 6\n",
        "iterations = 100\n",
        "display_gap = 50\n",
        "similarity = 0.9\n",
        "\n",
        "words = all_text.split()\n",
        "all_text_list = [\" \".join(words[i:i+span]) for i in range(0, len(words), span)]\n",
        "all_text_full = all_text_list\n",
        "\n",
        "iter_num = 0\n",
        "last_one = 0\n",
        "rand = 0\n",
        "model.text = \" \".join(words[:span])\n",
        "model.encoded_text = tokenize(model.text).cuda()\n",
        "for j in range(burnin):\n",
        "    train_step(model, 0, 0, rand)\n",
        "for epoch in range(0, len(words), span):\n",
        "    restart_point = iter_num\n",
        "    i = 0\n",
        "    while i < iterations:\n",
        "        phrase = \" \".join(words[epoch:epoch+span]).translate(str.maketrans('', '', string.punctuation))\n",
        "        model.text = phrase.translate(str.maketrans('', '', string.punctuation))\n",
        "        model.encoded_text = tokenize(model.text).cuda()\n",
        "        train_step(model, epoch, iter_num, rand)\n",
        "        \n",
        "        if iter_num % display_gap == 0:\n",
        "          print(f'iter: {iter_num} text={phrase}')\n",
        "          image_cur = Image(f'./{filename}.{iter_num}.png')\n",
        "          display(image_cur)\n",
        "        \n",
        "        if i % checkin_gap == 0 and i > 0:\n",
        "          imageA = io.imread(f'./{filename}.{iter_num}.png')\n",
        "          imageB = io.imread(f'./{filename}.{restart_point}.png')\n",
        "          grayA = cv2.cvtColor(imageA, cv2.COLOR_BGR2GRAY)\n",
        "          grayB = cv2.cvtColor(imageB, cv2.COLOR_BGR2GRAY)\n",
        "          (score, diff) = compare_ssim(grayA, grayB, full=True)\n",
        "          toinc = checkin_gap\n",
        "          print(f'iter{iter_num}: sim={score}')\n",
        "          if score>similarity or grayB.std()<15 or ((grayB < 50) | (grayB > 205)).mean()>0.9:\n",
        "              print(f'restart!')\n",
        "              model = Imagine(\n",
        "                  text = TEXT,\n",
        "                  save_every = SAVE_EVERY,\n",
        "                  lr = LEARNING_RATE,\n",
        "                  iterations = ITERATIONS,\n",
        "                  save_progress = SAVE_PROGRESS\n",
        "              )\n",
        "              model.text = \" \".join(words[epoch:epoch+span]).translate(str.maketrans('', '', string.punctuation))\n",
        "              model.encoded_text = tokenize(model.text).cuda()\n",
        "              for j in range(burnin):\n",
        "                train_step(model, epoch, iter_num, rand) \n",
        "              iter_num = restart_point\n",
        "              i = 0\n",
        "              rand = 0\n",
        "              continue\n",
        "              \n",
        "        i += 1\n",
        "        iter_num += 1\n",
        "        \n",
        "        \n",
        "    for i in range(last_one,iter_num):\n",
        "      msg_orig = \" \".join(words[epoch:epoch+span])\n",
        "      img = PIL.Image.open(f'./{filename}.{i}.png')\n",
        "      W, H = img.size\n",
        "      draw = ImageDraw.Draw(img)\n",
        "      font = ImageFont.truetype(\"/usr/share/fonts/truetype/liberation/LiberationMono-Bold.ttf\", 18)\n",
        "      msgs = [msg_orig]\n",
        "      w, h = draw.textsize(msg_orig, font=font)\n",
        "      if w>W:\n",
        "        split = span // 2\n",
        "        msgs = [\" \".join(words[epoch:epoch+split]), \" \".join(words[epoch+split:epoch+span])]\n",
        "      for shift, msg in enumerate(msgs): \n",
        "        w, h = draw.textsize(msg, font=font)\n",
        "        x, y = (W-w)/2, 7*(H-h)/8 + shift*h\n",
        "        draw.text((x, y), msg, fill=\"white\", font=font)\n",
        "      img.save(f'./{filename}.{i}.png')\n",
        "    last_one = iter_num"
      ],
      "execution_count": null,
      "outputs": []
    },
    {
      "cell_type": "code",
      "metadata": {
        "colab": {
          "base_uri": "https://localhost:8080/"
        },
        "collapsed": true,
        "id": "hA_Hbmo1-c-U",
        "outputId": "4462a0c7-f378-4c32-ec67-2ee66224c116"
      },
      "source": [
        "!zip s2h.zip *.png"
      ],
      "execution_count": null,
      "outputs": []
    },
    {
      "cell_type": "code",
      "metadata": {
        "id": "lj_coSVyE31e"
      },
      "source": [
        "!cp s2h.zip /content/drive/MyDrive/Astronaut\r\n",
        "# ffmpeg -framerate 10 -i Dungeon.%d.png -c:v libx264 -crf 0 Spaceman.mp4"
      ],
      "execution_count": null,
      "outputs": []
    }
  ]
}